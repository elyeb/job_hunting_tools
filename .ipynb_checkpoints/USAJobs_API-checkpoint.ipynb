{
 "cells": [
  {
   "cell_type": "code",
   "execution_count": 1,
   "id": "dc4bf767",
   "metadata": {},
   "outputs": [],
   "source": [
    "from collections import Counter\n",
    "import re\n",
    "import requests\n",
    "import pickle\n",
    "import config"
   ]
  },
  {
   "cell_type": "markdown",
   "id": "9b0b0dba",
   "metadata": {},
   "source": [
    "USAjobs <br/>\n",
    "https://developer.usajobs.gov/Tutorials/Search-Jobs"
   ]
  },
  {
   "cell_type": "code",
   "execution_count": 2,
   "id": "270d97ba",
   "metadata": {},
   "outputs": [],
   "source": [
    "#Parameters:\n",
    "\n",
    "USA_API_Key = config.api_key\n",
    "\n",
    "wa_pattern = re.compile(', Washington')\n",
    "\n",
    "multiple_locs = ['Multiple Locations',\\\n",
    "                 'Location Negotiable After Selection',\\\n",
    "                'IRS Nationwide Locations',\\\n",
    "                'May be filled in various FAA duty locations']\n",
    "\n",
    "keywords = ['investigator','investigation','information extraction',\\\n",
    "           'entity linking','record linkage','mandarin','french','thai',\\\n",
    "           'data analyst','program analyst','data scientist','data visualization',\\\n",
    "           'corruption','legal data analyst','natural language processing','NLP']\n",
    "\n",
    "host = 'data.usajobs.gov'\n",
    "user_agent = 'elyebliss@gmail.com'\n",
    "auth_key = USA_API_Key\n",
    "\n",
    "headers = {\n",
    "    'Host': host,\n",
    "    'User-Agent': user_agent,\n",
    "    'Authorization-Key': auth_key\n",
    "}"
   ]
  },
  {
   "cell_type": "code",
   "execution_count": 3,
   "id": "25689fb7",
   "metadata": {},
   "outputs": [],
   "source": [
    "def define_USAjobs_url(keyword):\n",
    "    \n",
    "    url = 'https://data.usajobs.gov/api/search?' #JobCategoryCode=2210\n",
    "\n",
    "    url+= '&Keyword='+keyword\n",
    "    #url+= '&LocationName='+location\n",
    "        \n",
    "    return url"
   ]
  },
  {
   "cell_type": "code",
   "execution_count": 4,
   "id": "87f21d90",
   "metadata": {},
   "outputs": [],
   "source": [
    "url = 'https://data.usajobs.gov/api/search?Keyword=Data Analyst:Data Scientist:Natural Language Processing:NLP:Chinese:Analytics:Analyst' #JobCategoryCode=2210&\n",
    "\n",
    "\n",
    "response = requests.get(url, headers=headers)\n",
    "data = response.json()"
   ]
  },
  {
   "cell_type": "markdown",
   "id": "24a9d54c",
   "metadata": {},
   "source": [
    "**Questions** <br/>\n",
    "- How to map the json response to its main keys\n",
    "- Which parameters do I set to customize my response?\n",
    "- How best should I search through results?\n",
    " \n",
    "**Overall plan** <br/>\n",
    "- pre-filter request with as many parameters as possible\n",
    "- filter results to remove:\n",
    "    - not-qualified\n",
    "    - not-interested\n",
    "    - already-saved\n",
    "    - already-seen\n",
    "- make as many requests as needed if you can't use multiple keywords, locations\n",
    "- combine and sort results using descriptions and other fields"
   ]
  },
  {
   "cell_type": "markdown",
   "id": "01490c64",
   "metadata": {},
   "source": [
    "**Notes**\n",
    "- \"All parameters support multiple search values which must be separated by a colon.\"\n",
    "    - It looks like this isnt' actually true. I probably need to create distinct calls per keyword, and then just combine results\n",
    "- It seems like you can't really make the API request using \"Remote\" as a location. However, you can cast a wider net and then filter results to 'PositionLocationDisplay': 'Anywhere in the U.S. (remote job)'"
   ]
  },
  {
   "cell_type": "markdown",
   "id": "7c9817f2",
   "metadata": {},
   "source": [
    "**Pre-step:** import list of jobs already screened"
   ]
  },
  {
   "cell_type": "code",
   "execution_count": 5,
   "id": "761d611d",
   "metadata": {},
   "outputs": [],
   "source": [
    "with open('USA_screened_jobs', 'rb') as infile:\n",
    "    prescreened = pickle.load(infile)"
   ]
  },
  {
   "cell_type": "markdown",
   "id": "5c679c00",
   "metadata": {},
   "source": [
    "**Step 1:** Create giant list from all keywords"
   ]
  },
  {
   "cell_type": "code",
   "execution_count": 7,
   "id": "cff12814",
   "metadata": {},
   "outputs": [
    {
     "data": {
      "text/plain": [
       "322"
      ]
     },
     "execution_count": 7,
     "metadata": {},
     "output_type": "execute_result"
    }
   ],
   "source": [
    "wide_net = []\n",
    "for word in keywords:\n",
    "    \n",
    "    response = requests.get(define_USAjobs_url(word.capitalize()), headers=headers)\n",
    "    data = response.json()\n",
    "    if 'SearchResultItems' in data['SearchResult']:\n",
    "        wide_net.extend(data['SearchResult']['SearchResultItems'])\n",
    "len(wide_net)"
   ]
  },
  {
   "cell_type": "code",
   "execution_count": 8,
   "id": "4e6b5ffa",
   "metadata": {
    "scrolled": false
   },
   "outputs": [
    {
     "data": {
      "text/plain": [
       "297"
      ]
     },
     "execution_count": 8,
     "metadata": {},
     "output_type": "execute_result"
    }
   ],
   "source": [
    "#remove pre-screened:\n",
    "wide_net = [item for item in wide_net if (item['MatchedObjectDescriptor']['PositionID'] not in prescreened)]\n",
    "len(wide_net)"
   ]
  },
  {
   "cell_type": "markdown",
   "id": "d33a3863",
   "metadata": {},
   "source": [
    "**Step 2:** Apply deal-breaker filters <br/>\n",
    "- not in WA or remote-available\n",
    "    - 'Anywhere in the U.S. (remote job)'\n",
    "    - ', Washington'\n",
    "- not open to public or career federal employees\n",
    "- manually reviewed already\n",
    "- GS >13"
   ]
  },
  {
   "cell_type": "code",
   "execution_count": 9,
   "id": "7fc98103",
   "metadata": {},
   "outputs": [
    {
     "data": {
      "text/plain": [
       "240"
      ]
     },
     "execution_count": 9,
     "metadata": {},
     "output_type": "execute_result"
    }
   ],
   "source": [
    "wide_net1 = [item for item in wide_net if (('fed-transition'in item['MatchedObjectDescriptor']['UserArea']['Details']['HiringPath']) or ('public' in item['MatchedObjectDescriptor']['UserArea']['Details']['HiringPath']))]\n",
    "len(wide_net1) #remaining jobs"
   ]
  },
  {
   "cell_type": "markdown",
   "id": "fe2aa381",
   "metadata": {},
   "source": [
    "Investigate further: <br/>\n",
    "- 'Multiple Locations'\n",
    "- 'Location Negotiable After Selection'\n",
    "- 'IRS Nationwide Locations'\n",
    "- 'May be filled in various FAA duty locations'"
   ]
  },
  {
   "cell_type": "code",
   "execution_count": 10,
   "id": "05609f23",
   "metadata": {},
   "outputs": [
    {
     "data": {
      "text/plain": [
       "56"
      ]
     },
     "execution_count": 10,
     "metadata": {},
     "output_type": "execute_result"
    }
   ],
   "source": [
    "wide_net2 = []\n",
    "\n",
    "for job in wide_net1:\n",
    "    \n",
    "    if job['MatchedObjectDescriptor']['PositionLocationDisplay']=='Anywhere in the U.S. (remote job)':\n",
    "        wide_net2.append(job)\n",
    "        \n",
    "    elif wa_pattern.findall(job['MatchedObjectDescriptor']['PositionLocationDisplay']):\n",
    "        wide_net2.append(job)\n",
    "        \n",
    "    elif job['MatchedObjectDescriptor']['PositionLocationDisplay'] in multiple_locs:\n",
    "        \n",
    "        keep = False\n",
    "        for location in job['MatchedObjectDescriptor']['PositionLocation']:\n",
    "            if wa_pattern.findall(location['LocationName']):\n",
    "                keep=True\n",
    "        if keep:\n",
    "            wide_net2.append(job)\n",
    "len(wide_net2)  "
   ]
  },
  {
   "cell_type": "code",
   "execution_count": 11,
   "id": "0242429a",
   "metadata": {},
   "outputs": [
    {
     "data": {
      "text/plain": [
       "20"
      ]
     },
     "execution_count": 11,
     "metadata": {},
     "output_type": "execute_result"
    }
   ],
   "source": [
    "wide_net3 = []\n",
    "grades = []\n",
    "for job in wide_net2:\n",
    "    \n",
    "    try:\n",
    "    \n",
    "        if int(job['MatchedObjectDescriptor']['UserArea']['Details']['HighGrade']) <14:\n",
    "            wide_net3.append(job) \n",
    "    \n",
    "    except:\n",
    "       wide_net3.append(job) \n",
    "len(wide_net3)"
   ]
  },
  {
   "cell_type": "markdown",
   "id": "4748f33f",
   "metadata": {},
   "source": [
    "**Step 3**: prioritize results <br/>\n",
    "- first batch should be anything that contains extra cool keywords in title or job description:\n",
    "    - Data Scientist\n",
    "    - NLP\n",
    "    - Data Analyst\n",
    "- next batch should be fully-remote\n",
    "- then all remainders"
   ]
  },
  {
   "cell_type": "code",
   "execution_count": 12,
   "id": "e86b2cfc",
   "metadata": {},
   "outputs": [],
   "source": [
    "wide_net4 = []\n",
    "batch2 = []\n",
    "batch3 = []\n",
    "\n",
    "extra_keywords = ['data scientist','nlp','data analyst','information extraction']\n",
    "\n",
    "for job in wide_net3:\n",
    "    key_text = job['MatchedObjectDescriptor']['PositionTitle'].lower()+\\\n",
    "    job['MatchedObjectDescriptor']['UserArea']['Details']['MajorDuties'][0].lower()+\\\n",
    "    job['MatchedObjectDescriptor']['UserArea']['Details']['JobSummary'].lower()\n",
    "    \n",
    "    keep = False\n",
    "    for keyword in extra_keywords:\n",
    "        if re.findall(keyword,key_text):\n",
    "            keep=True\n",
    "    if keep:\n",
    "        wide_net4.append(job)\n",
    "    \n",
    "    elif job['MatchedObjectDescriptor']['PositionLocationDisplay']=='Anywhere in the U.S. (remote job)':\n",
    "        batch2.append(job)\n",
    "    else:\n",
    "        batch3.append(job)"
   ]
  },
  {
   "cell_type": "markdown",
   "id": "e2822a16",
   "metadata": {},
   "source": [
    "**Step 4**: display and deal with results manually-reviewed already"
   ]
  },
  {
   "cell_type": "code",
   "execution_count": 13,
   "id": "5f905076",
   "metadata": {},
   "outputs": [
    {
     "data": {
      "text/plain": [
       "20"
      ]
     },
     "execution_count": 13,
     "metadata": {},
     "output_type": "execute_result"
    }
   ],
   "source": [
    "wide_net4.extend(batch2)\n",
    "wide_net4.extend(batch3)\n",
    "len(wide_net4)"
   ]
  },
  {
   "cell_type": "markdown",
   "id": "f2893b97",
   "metadata": {},
   "source": [
    "**Display**: <br/>\n",
    "- ['MatchedObjectDescriptor']['PositionID']\n",
    "- ['MatchedObjectDescriptor']['PositionTitle']\n",
    "- ['MatchedObjectDescriptor']['PositionLocationDisplay']\n",
    "- ['MatchedObjectDescriptor']['OrganizationName']\n",
    "- ['MatchedObjectDescriptor']['DepartmentName']\n",
    "- ['MatchedObjectDescriptor']['UserArea']['Details']\n",
    "- ['MatchedObjectDescriptor']['UserArea']['MajorDuties']\n",
    "- ['MatchedObjectDescriptor']['PositionURI']"
   ]
  },
  {
   "cell_type": "code",
   "execution_count": 14,
   "id": "cf6e8928",
   "metadata": {},
   "outputs": [
    {
     "name": "stdout",
     "output_type": "stream",
     "text": [
      "PositionTitle: Health System Specialist (Data Analyst)\n",
      "OrganizationName: Veterans Health Administration\n",
      "DepartmentName: Department of Veterans Affairs\n",
      "location: Anywhere in the U.S. (remote job)\n",
      "\n",
      "JobSummary: This position is in the National Mailed Fecal Immunochemical Testing Implementation Team (MFIT), within the National Colorectal Cancer Screening Program (NCSP), within the National Gastroenterology and Hepatology Program (NGHP). The NGHP is within the Specialty Care Program Office (SCPO). The position serves as a Data Analyst, reporting to the Supervisory Program Manager of the MFIT, supporting the SCPO.\n",
      "\n",
      "PositionURI: https://www.usajobs.gov:443/GetJob/ViewDetails/728045600\n",
      "\n",
      "Mark as seen =ss\n",
      "PositionTitle: Data Analyst - Customer Insights (All Sources)\n",
      "OrganizationName: Federal Student Aid\n",
      "DepartmentName: Department of Education\n",
      "location: Location Negotiable After Selection\n",
      "\n",
      "JobSummary: Federal Student Aid (FSA) continually seeks data-driven ways to improve the customer experience. In this role, you’ll serve as the product manager of the Voice of the Customer (VoC) platform (e.g. Medallia), design and implement new survey programs, advance FSA’s text analytics/natural language processing capability, and deliver actionable insights and recommendations based on customer feedback that can be used to improve the customer experience of our nation’s students and borrowers.\n",
      "\n",
      "PositionURI: https://www.usajobs.gov:443/GetJob/ViewDetails/727293000\n",
      "\n",
      "Mark as seen =ss\n",
      "PositionTitle: Health System Specialist (Data Analyst)\n",
      "OrganizationName: Veterans Health Administration\n",
      "DepartmentName: Department of Veterans Affairs\n",
      "location: Anywhere in the U.S. (remote job)\n",
      "\n",
      "JobSummary: The position serves as a Health System Specialist for the Office of Diagnostic Services National Radiology Program (11DIAG1), Clinical Services (11), Veterans Health Administration (VHA), Department of Veterans Affairs (VA). The position supports the Radiology and Nuclear Medicine and Radiation Safety Programs including a special focus on breast imaging in VHA and community care.\n",
      "\n",
      "PositionURI: https://www.usajobs.gov:443/GetJob/ViewDetails/727938400\n",
      "\n",
      "Mark as seen =ss\n",
      "PositionTitle: Data Scientist\n",
      "OrganizationName: Office of Inspector General\n",
      "DepartmentName: Department of Defense\n",
      "location: Multiple Locations\n",
      "\n",
      "JobSummary: This position is located in the Department of Defense (DoD) Office of the Inspector General (OIG), Mission Support Team, Data Analytics Team (DAT). The incumbent is a Data Scientist responsible for providing timely, technical advice with respect to applied data science and mathematical and statistical analyses that solve critical problems, promote program integrity, and detect fraud, waste, and abuse.\n",
      "\n",
      "PositionURI: https://www.usajobs.gov:443/GetJob/ViewDetails/727460200\n",
      "\n",
      "Mark as seen =ss\n",
      "PositionTitle: Data Scientist\n",
      "OrganizationName: Centers for Medicare & Medicaid Services\n",
      "DepartmentName: Department of Health and Human Services\n",
      "location: Anywhere in the U.S. (remote job)\n",
      "\n",
      "JobSummary: This position is located in in the Department of Health & Human Services (HHS), Centers for Medicare & Medicaid Services (CMS), Center for Clinical Standards and Quality (CCSQ). As a Data Scientist, GS-1560-13, you will design, develop, and implement the analytical, statistical, and programming mechanisms necessary to collect, organize, analyze, and interpret unique and highly specialized data sets.\n",
      "\n",
      "PositionURI: https://www.usajobs.gov:443/GetJob/ViewDetails/727197800\n",
      "\n",
      "Mark as seen =ss\n",
      "PositionTitle: Data Scientist\n",
      "OrganizationName: Social Security Administration\n",
      "DepartmentName: Other Agencies and Independent Organizations\n",
      "location: Anywhere in the U.S. (remote job)\n",
      "\n",
      "JobSummary: This position is located in the Office of the General Counsel (OGC), Office of Legal Operations (OLO), Division of Data & Business Intelligence.\n",
      "\n",
      "PositionURI: https://www.usajobs.gov:443/GetJob/ViewDetails/725433100\n",
      "\n",
      "Mark as seen =ss\n",
      "PositionTitle: Data Scientist\n",
      "OrganizationName: Veterans Health Administration\n",
      "DepartmentName: Department of Veterans Affairs\n",
      "location: Anywhere in the U.S. (remote job)\n",
      "\n",
      "JobSummary: The position is in the National Oncology Program (NOP), Specialty Care Services (SCS), Veterans Health Administration (VHA), and Department of Veterans Affairs (VA). Under the direct supervision of the Oncology Data Program Manager (ODPM) the position is responsiblefor supporting data initiatives for the National Oncology Program (NOP).\n",
      "\n",
      "PositionURI: https://www.usajobs.gov:443/GetJob/ViewDetails/728112600\n",
      "\n",
      "Mark as seen =ss\n",
      "PositionTitle: Data Scientist (12-Month Register)\n",
      "OrganizationName: Internal Revenue Service\n",
      "DepartmentName: Department of the Treasury\n",
      "location: Multiple Locations\n",
      "\n",
      "JobSummary: Click on \"Learn more about this agency\" button below to view Eligibilities being considered and other IMPORTANT information. WHERE CAN I FIND OUT MORE ABOUT OTHER IRS CAREERS? Visit us on the web at www.jobs.irs.gov\n",
      "\n",
      "PositionURI: https://www.usajobs.gov:443/GetJob/ViewDetails/726409400\n",
      "\n",
      "Mark as seen =ss\n",
      "PositionTitle: Data Scientist (12 Month Roster)\n",
      "OrganizationName: Internal Revenue Service\n",
      "DepartmentName: Department of the Treasury\n",
      "location: Multiple Locations\n",
      "\n",
      "JobSummary: Click on \"Learn more about this agency\" button below to view Eligibilities being considered and other IMPORTANT information. WHERE CAN I FIND OUT MORE ABOUT OTHER IRS CAREERS? Visit us on the web at www.jobs.irs.gov\n",
      "\n",
      "PositionURI: https://www.usajobs.gov:443/GetJob/ViewDetails/726410400\n",
      "\n",
      "Mark as seen =ss\n",
      "PositionTitle: Criminal Investigator\n",
      "OrganizationName: Office of the Inspector General\n",
      "DepartmentName: Department of Commerce\n",
      "location: Anywhere in the U.S. (remote job)\n",
      "\n",
      "JobSummary: We are seeking highly motivated professionals to join our team. If you want challenging work and a chance to make a big impact, come join us at the Office of Inspector General for the Department of Commerce! We improve the effectiveness of the Department's programs and operations. We also investigate waste, fraud, and abuse in the Department and those who do business with it.\n",
      "\n",
      "PositionURI: https://www.usajobs.gov:443/GetJob/ViewDetails/727201900\n",
      "\n",
      "Mark as seen =ss\n",
      "PositionTitle: Program Analyst\n",
      "OrganizationName: Veterans Health Administration\n",
      "DepartmentName: Department of Veterans Affairs\n",
      "location: Anywhere in the U.S. (remote job)\n",
      "\n",
      "JobSummary: This is a Program Analyst (PGHD Program) position for the Office of Connected Care (OCC), focusing ondelivering health IT solutions that increase Veterans' access to care and support Veterans' participation in their own health care. The mission of OCC is to deliver high-quality Veteran-centered care, optimize individual and population health, advance health care that is personalized and proactive, and enhance the health care experience through virtual modalities of care.\n",
      "\n",
      "PositionURI: https://www.usajobs.gov:443/GetJob/ViewDetails/727640700\n",
      "\n",
      "Mark as seen =ss\n",
      "PositionTitle: Program Analyst\n",
      "OrganizationName: Veterans Health Administration\n",
      "DepartmentName: Department of Veterans Affairs\n",
      "location: Anywhere in the U.S. (remote job)\n",
      "\n",
      "JobSummary: The Program Analyst is the Site Liaison responsible for the continuing operation of the Managerial Cost Accounting Program (MCAP). The incumbent is an essential part of the Network Managerial Cost Accounting/Decision Management Team that is distributed throughout the medical centers within the network.\n",
      "\n",
      "PositionURI: https://www.usajobs.gov:443/GetJob/ViewDetails/728050900\n",
      "\n",
      "Mark as seen =ss\n",
      "PositionTitle: Program Analyst\n",
      "OrganizationName: Bureau of Indian Education\n",
      "DepartmentName: Department of the Interior\n",
      "location: Anywhere in the U.S. (remote job)\n",
      "\n",
      "JobSummary: This position is part of the Director, Bureau of Indian Education, Bureau of Indian Education. As a Program Analyst you will serve as management advisor performing a range of analytical studies and projects related to field program operations in the areas of management and productivity improvement.\n",
      "\n",
      "PositionURI: https://www.usajobs.gov:443/GetJob/ViewDetails/728221700\n",
      "\n",
      "Mark as seen =ss\n",
      "PositionTitle: Human Resources Specialist (Info Systems)\n",
      "OrganizationName: Veterans Health Administration\n",
      "DepartmentName: Department of Veterans Affairs\n",
      "location: Anywhere in the U.S. (remote job)\n",
      "\n",
      "JobSummary: The incumbent serves on the Human Resources Information Systems team for the Veterans Healthcare Administration (VHA), Workforce Management and Consulting, Workforce Solutions (WS) office. This office provides a wide range of highly-visible strategic programs, and data analysis and reporting services to advance accomplishment of the VHA mission.\n",
      "\n",
      "PositionURI: https://www.usajobs.gov:443/GetJob/ViewDetails/728251600\n"
     ]
    },
    {
     "name": "stdout",
     "output_type": "stream",
     "text": [
      "\n",
      "Mark as seen =ss\n",
      "PositionTitle: Criminal Investigator\n",
      "OrganizationName: Office of Inspector General\n",
      "DepartmentName: General Services Administration\n",
      "location: Tacoma, Washington\n",
      "\n",
      "JobSummary: As a Special Agent in the Office of Investigations, you will be responsible for conducting and reporting upon investigations of suspected criminal violations affecting the programs, operations, and employees of the GSA consistent with the Inspector General Act of 1978. Location of Position: Office of Investigations, Western Division Northwest/Arctic Region Investigations Office Tacoma, WA (JIF-10) We are currently filling one vacancy, but additional vacancies may be filled as needed.\n",
      "\n",
      "PositionURI: https://www.usajobs.gov:443/GetJob/ViewDetails/727905500\n",
      "\n",
      "Mark as seen =ss\n",
      "PositionTitle: Supervisory Emergency Management Specialist\n",
      "OrganizationName: Federal Emergency Management Agency\n",
      "DepartmentName: Department of Homeland Security\n",
      "location: Location Negotiable After Selection\n",
      "\n",
      "JobSummary: This position is being announced under FEMA's Incident Management Cadre of On-call Response/Recovery Employee (IM-CORE) Program. This is a temporary appointment in the Excepted Service, not to exceed 2 years, with the option to extend based on workload and funding availability. Veterans Preference does not apply in selections of IM-CORE employees. View common definitions of terms found in this announcement.\n",
      "\n",
      "PositionURI: https://www.usajobs.gov:443/GetJob/ViewDetails/728255500\n",
      "\n",
      "Mark as seen =ss\n"
     ]
    }
   ],
   "source": [
    "add_to_seen = []\n",
    "\n",
    "for job in wide_net4:\n",
    "    #print('PositionID: '+job['MatchedObjectDescriptor']['PositionID'])\n",
    "    if job['MatchedObjectDescriptor']['PositionID'] not in add_to_seen:\n",
    "        print('PositionTitle: '+job['MatchedObjectDescriptor']['PositionTitle'])\n",
    "        print('OrganizationName: '+job['MatchedObjectDescriptor']['OrganizationName'])\n",
    "        print('DepartmentName: '+job['MatchedObjectDescriptor']['DepartmentName'])\n",
    "        print('location: '+job['MatchedObjectDescriptor']['PositionLocationDisplay'])\n",
    "        print()\n",
    "        print('JobSummary: '+job['MatchedObjectDescriptor']['UserArea']['Details']['JobSummary'])\n",
    "        print()\n",
    "        #print('MajorDuties: '+job['MatchedObjectDescriptor']['UserArea']['Details']['MajorDuties'][0])\n",
    "        #print()\n",
    "        print('PositionURI: '+job['MatchedObjectDescriptor']['PositionURI'])\n",
    "\n",
    "        decision = str(input(\"\\nMark as seen =s\"))\n",
    "        if decision =='s':\n",
    "            add_to_seen.append(job['MatchedObjectDescriptor']['PositionID'])\n"
   ]
  },
  {
   "cell_type": "code",
   "execution_count": 15,
   "id": "062c2fb9",
   "metadata": {},
   "outputs": [
    {
     "data": {
      "text/plain": [
       "16"
      ]
     },
     "execution_count": 15,
     "metadata": {},
     "output_type": "execute_result"
    }
   ],
   "source": [
    "len(add_to_seen)"
   ]
  },
  {
   "cell_type": "code",
   "execution_count": 16,
   "id": "f3c02dd2",
   "metadata": {},
   "outputs": [
    {
     "data": {
      "text/plain": [
       "53"
      ]
     },
     "execution_count": 16,
     "metadata": {},
     "output_type": "execute_result"
    }
   ],
   "source": [
    "prescreened = list(set(prescreened))\n",
    "len(prescreened)"
   ]
  },
  {
   "cell_type": "code",
   "execution_count": 17,
   "id": "69adabe8",
   "metadata": {},
   "outputs": [
    {
     "data": {
      "text/plain": [
       "69"
      ]
     },
     "execution_count": 17,
     "metadata": {},
     "output_type": "execute_result"
    }
   ],
   "source": [
    "prescreened.extend(add_to_seen)\n",
    "len(prescreened)"
   ]
  },
  {
   "cell_type": "code",
   "execution_count": 18,
   "id": "e21e9483",
   "metadata": {},
   "outputs": [
    {
     "name": "stdout",
     "output_type": "stream",
     "text": [
      "/Users/elyebliss/Desktop/WorkApps\n"
     ]
    }
   ],
   "source": [
    "%cd ~/Desktop/WorkApps\n",
    "\n",
    "with open('USA_screened_jobs', 'wb') as handle:\n",
    "    pickle.dump(prescreened, handle, protocol=pickle.HIGHEST_PROTOCOL)"
   ]
  },
  {
   "cell_type": "markdown",
   "id": "36ae7412",
   "metadata": {},
   "source": [
    "**DONE**"
   ]
  }
 ],
 "metadata": {
  "kernelspec": {
   "display_name": "Python 3 (ipykernel)",
   "language": "python",
   "name": "python3"
  },
  "language_info": {
   "codemirror_mode": {
    "name": "ipython",
    "version": 3
   },
   "file_extension": ".py",
   "mimetype": "text/x-python",
   "name": "python",
   "nbconvert_exporter": "python",
   "pygments_lexer": "ipython3",
   "version": "3.9.0"
  }
 },
 "nbformat": 4,
 "nbformat_minor": 5
}
